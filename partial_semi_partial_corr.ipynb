{
 "cells": [
  {
   "cell_type": "markdown",
   "metadata": {},
   "source": [
    "# $p$-values for Standarised $\\beta$'s, partial correlation coefficient, and semi-partial correlation coefficient"
   ]
  },
  {
   "cell_type": "markdown",
   "metadata": {},
   "source": [
    "__Thesis.__ The $p$-values for the quantities in the title should be identical, since these are simply rescalings of the same effect. See this SE answer:https://stats.stackexchange.com/a/76819/277115.\n",
    "\n",
    "In what follows, I will refer to the following sources, and work with the `duncan_prestige` dataset.\n",
    "\n",
    "Kim: https://journals.sagepub.com/doi/10.3102/1076998610396901\n",
    "\n",
    "Aloe and Thompson: https://www.journals.uchicago.edu/doi/abs/10.5243/jsswr.2013.24"
   ]
  },
  {
   "cell_type": "code",
   "execution_count": 1,
   "metadata": {},
   "outputs": [],
   "source": [
    "import statsmodels.api as sm\n",
    "import numpy as np\n",
    "import pandas as pd\n",
    "\n",
    "from pingouin import partial_corr\n",
    "from scipy.stats import t"
   ]
  },
  {
   "cell_type": "markdown",
   "metadata": {},
   "source": [
    "## Perform OLS"
   ]
  },
  {
   "cell_type": "code",
   "execution_count": 2,
   "metadata": {},
   "outputs": [],
   "source": [
    "# import \"duncan_prestige\" dataset:\n",
    "duncan_prestige = sm.datasets.get_rdataset(\"Duncan\", \"carData\").data.drop(\"type\", axis=1)\n",
    "\n",
    "# standardise Y and X\n",
    "Y = (duncan_prestige['income'] - duncan_prestige['income'].mean()) / duncan_prestige['income'].std()\n",
    "X = (duncan_prestige[['education', 'prestige']] - duncan_prestige[['education', 'prestige']].mean()) / duncan_prestige[['education', 'prestige']].std()\n",
    "\n",
    "# perform regression\n",
    "model_ols = sm.OLS(Y,X)\n",
    "results_ols = model_ols.fit()"
   ]
  },
  {
   "cell_type": "code",
   "execution_count": 3,
   "metadata": {},
   "outputs": [
    {
     "data": {
      "text/html": [
       "<table class=\"simpletable\">\n",
       "<caption>OLS Regression Results</caption>\n",
       "<tr>\n",
       "  <th>Dep. Variable:</th>         <td>income</td>      <th>  R-squared (uncentered):</th>      <td>   0.702</td>\n",
       "</tr>\n",
       "<tr>\n",
       "  <th>Model:</th>                   <td>OLS</td>       <th>  Adj. R-squared (uncentered):</th> <td>   0.688</td>\n",
       "</tr>\n",
       "<tr>\n",
       "  <th>Method:</th>             <td>Least Squares</td>  <th>  F-statistic:       </th>          <td>   50.73</td>\n",
       "</tr>\n",
       "<tr>\n",
       "  <th>Date:</th>             <td>Fri, 28 May 2021</td> <th>  Prob (F-statistic):</th>          <td>4.84e-12</td>\n",
       "</tr>\n",
       "<tr>\n",
       "  <th>Time:</th>                 <td>19:12:12</td>     <th>  Log-Likelihood:    </th>          <td> -36.081</td>\n",
       "</tr>\n",
       "<tr>\n",
       "  <th>No. Observations:</th>      <td>    45</td>      <th>  AIC:               </th>          <td>   76.16</td>\n",
       "</tr>\n",
       "<tr>\n",
       "  <th>Df Residuals:</th>          <td>    43</td>      <th>  BIC:               </th>          <td>   79.78</td>\n",
       "</tr>\n",
       "<tr>\n",
       "  <th>Df Model:</th>              <td>     2</td>      <th>                     </th>              <td> </td>   \n",
       "</tr>\n",
       "<tr>\n",
       "  <th>Covariance Type:</th>      <td>nonrobust</td>    <th>                     </th>              <td> </td>   \n",
       "</tr>\n",
       "</table>\n",
       "<table class=\"simpletable\">\n",
       "<tr>\n",
       "      <td></td>         <th>coef</th>     <th>std err</th>      <th>t</th>      <th>P>|t|</th>  <th>[0.025</th>    <th>0.975]</th>  \n",
       "</tr>\n",
       "<tr>\n",
       "  <th>education</th> <td>    0.0393</td> <td>    0.159</td> <td>    0.247</td> <td> 0.806</td> <td>   -0.281</td> <td>    0.360</td>\n",
       "</tr>\n",
       "<tr>\n",
       "  <th>prestige</th>  <td>    0.8043</td> <td>    0.159</td> <td>    5.063</td> <td> 0.000</td> <td>    0.484</td> <td>    1.125</td>\n",
       "</tr>\n",
       "</table>\n",
       "<table class=\"simpletable\">\n",
       "<tr>\n",
       "  <th>Omnibus:</th>       <td> 9.200</td> <th>  Durbin-Watson:     </th> <td>   2.053</td>\n",
       "</tr>\n",
       "<tr>\n",
       "  <th>Prob(Omnibus):</th> <td> 0.010</td> <th>  Jarque-Bera (JB):  </th> <td>  21.265</td>\n",
       "</tr>\n",
       "<tr>\n",
       "  <th>Skew:</th>          <td> 0.075</td> <th>  Prob(JB):          </th> <td>2.41e-05</td>\n",
       "</tr>\n",
       "<tr>\n",
       "  <th>Kurtosis:</th>      <td> 6.364</td> <th>  Cond. No.          </th> <td>    3.54</td>\n",
       "</tr>\n",
       "</table><br/><br/>Notes:<br/>[1] R² is computed without centering (uncentered) since the model does not contain a constant.<br/>[2] Standard Errors assume that the covariance matrix of the errors is correctly specified."
      ],
      "text/plain": [
       "<class 'statsmodels.iolib.summary.Summary'>\n",
       "\"\"\"\n",
       "                                 OLS Regression Results                                \n",
       "=======================================================================================\n",
       "Dep. Variable:                 income   R-squared (uncentered):                   0.702\n",
       "Model:                            OLS   Adj. R-squared (uncentered):              0.688\n",
       "Method:                 Least Squares   F-statistic:                              50.73\n",
       "Date:                Fri, 28 May 2021   Prob (F-statistic):                    4.84e-12\n",
       "Time:                        19:12:12   Log-Likelihood:                         -36.081\n",
       "No. Observations:                  45   AIC:                                      76.16\n",
       "Df Residuals:                      43   BIC:                                      79.78\n",
       "Df Model:                           2                                                  \n",
       "Covariance Type:            nonrobust                                                  \n",
       "==============================================================================\n",
       "                 coef    std err          t      P>|t|      [0.025      0.975]\n",
       "------------------------------------------------------------------------------\n",
       "education      0.0393      0.159      0.247      0.806      -0.281       0.360\n",
       "prestige       0.8043      0.159      5.063      0.000       0.484       1.125\n",
       "==============================================================================\n",
       "Omnibus:                        9.200   Durbin-Watson:                   2.053\n",
       "Prob(Omnibus):                  0.010   Jarque-Bera (JB):               21.265\n",
       "Skew:                           0.075   Prob(JB):                     2.41e-05\n",
       "Kurtosis:                       6.364   Cond. No.                         3.54\n",
       "==============================================================================\n",
       "\n",
       "Notes:\n",
       "[1] R² is computed without centering (uncentered) since the model does not contain a constant.\n",
       "[2] Standard Errors assume that the covariance matrix of the errors is correctly specified.\n",
       "\"\"\""
      ]
     },
     "execution_count": 3,
     "metadata": {},
     "output_type": "execute_result"
    }
   ],
   "source": [
    "results_ols.summary()"
   ]
  },
  {
   "cell_type": "markdown",
   "metadata": {},
   "source": [
    "## Partial Correlation Coefficient"
   ]
  },
  {
   "cell_type": "markdown",
   "metadata": {},
   "source": [
    "We first simply employ `pingouin` to compute the coefficient and corresponding $p$-values:"
   ]
  },
  {
   "cell_type": "code",
   "execution_count": 4,
   "metadata": {},
   "outputs": [],
   "source": [
    "# initialise dictionary\n",
    "partial_corr_dict = {}\n",
    "\n",
    "# compute correlation coefficient\n",
    "for predictor in [\"education\", \"prestige\"]:\n",
    "    \n",
    "    partial_corr_dict[predictor] = partial_corr(data=duncan_prestige,\n",
    "                                                y=\"income\",\n",
    "                                                x=predictor,\n",
    "                                                covar=duncan_prestige.columns.drop([predictor, \"income\"]).to_list()\n",
    "                                                )[[\"r\", \"p-val\"]].reset_index().drop(\"index\", axis=1).values[0]\n",
    "    \n",
    "# convert dictionary to dataframe\n",
    "partial_corr_df = pd.DataFrame.from_dict(partial_corr_dict,\n",
    "                                         orient=\"index\",\n",
    "                                         columns=[\"r\", \"p_val_pingouin\"]\n",
    "                                        ).sort_values(\n",
    "    \"r\", key=abs, ascending=False)"
   ]
  },
  {
   "cell_type": "code",
   "execution_count": 5,
   "metadata": {},
   "outputs": [
    {
     "data": {
      "text/html": [
       "<div>\n",
       "<style scoped>\n",
       "    .dataframe tbody tr th:only-of-type {\n",
       "        vertical-align: middle;\n",
       "    }\n",
       "\n",
       "    .dataframe tbody tr th {\n",
       "        vertical-align: top;\n",
       "    }\n",
       "\n",
       "    .dataframe thead th {\n",
       "        text-align: right;\n",
       "    }\n",
       "</style>\n",
       "<table border=\"1\" class=\"dataframe\">\n",
       "  <thead>\n",
       "    <tr style=\"text-align: right;\">\n",
       "      <th></th>\n",
       "      <th>r</th>\n",
       "      <th>p_val_pingouin</th>\n",
       "    </tr>\n",
       "  </thead>\n",
       "  <tbody>\n",
       "    <tr>\n",
       "      <th>prestige</th>\n",
       "      <td>0.611101</td>\n",
       "      <td>0.000011</td>\n",
       "    </tr>\n",
       "    <tr>\n",
       "      <th>education</th>\n",
       "      <td>0.037690</td>\n",
       "      <td>0.808084</td>\n",
       "    </tr>\n",
       "  </tbody>\n",
       "</table>\n",
       "</div>"
      ],
      "text/plain": [
       "                  r  p_val_pingouin\n",
       "prestige   0.611101        0.000011\n",
       "education  0.037690        0.808084"
      ]
     },
     "execution_count": 5,
     "metadata": {},
     "output_type": "execute_result"
    }
   ],
   "source": [
    "partial_corr_df"
   ]
  },
  {
   "cell_type": "markdown",
   "metadata": {},
   "source": [
    "We compare with the OLS $p$-values:"
   ]
  },
  {
   "cell_type": "code",
   "execution_count": 6,
   "metadata": {},
   "outputs": [
    {
     "data": {
      "text/plain": [
       "education    0.805831\n",
       "prestige     0.000008\n",
       "dtype: float64"
      ]
     },
     "execution_count": 6,
     "metadata": {},
     "output_type": "execute_result"
    }
   ],
   "source": [
    "results_ols.pvalues"
   ]
  },
  {
   "cell_type": "markdown",
   "metadata": {},
   "source": [
    "The numbers are close, but not exact."
   ]
  },
  {
   "cell_type": "markdown",
   "metadata": {},
   "source": [
    "So we now compute by hand using the same equation as `pingouin` does. This is equation (2.8) in Kim, which is equivalent to equation (2) in Aloe and Thompson\n",
    "$$\n",
    "    t = r \\sqrt{\\frac{\\text{df}}{1 - r^2}}\\ .\n",
    "$$\n",
    "We only change $\\text{df}$ to\n",
    "$$\n",
    "    \\text{df} = n - g - 1\\ ,\n",
    "$$\n",
    "where $n$ is the sample size, and $g$ is the number of covariates."
   ]
  },
  {
   "cell_type": "code",
   "execution_count": 7,
   "metadata": {},
   "outputs": [],
   "source": [
    "N = Y.shape[0] # sample size\n",
    "K = X.shape[1] # number of predictors\n",
    "G = K - 1 # number of covariates\n",
    "\n",
    "DF = N - G - 1\n",
    "\n",
    "# compute t statistic and p value\n",
    "partial_corr_df[\"t_stat_true\"] = partial_corr_df[\"r\"] * np.sqrt(DF / (1 - partial_corr_df[\"r\"]**2))\n",
    "partial_corr_df[\"p_val_true\"] = 2 * t.sf(partial_corr_df[\"t_stat_true\"].abs(),\n",
    "                                         df=DF)"
   ]
  },
  {
   "cell_type": "code",
   "execution_count": 8,
   "metadata": {},
   "outputs": [
    {
     "data": {
      "text/html": [
       "<div>\n",
       "<style scoped>\n",
       "    .dataframe tbody tr th:only-of-type {\n",
       "        vertical-align: middle;\n",
       "    }\n",
       "\n",
       "    .dataframe tbody tr th {\n",
       "        vertical-align: top;\n",
       "    }\n",
       "\n",
       "    .dataframe thead th {\n",
       "        text-align: right;\n",
       "    }\n",
       "</style>\n",
       "<table border=\"1\" class=\"dataframe\">\n",
       "  <thead>\n",
       "    <tr style=\"text-align: right;\">\n",
       "      <th></th>\n",
       "      <th>r</th>\n",
       "      <th>p_val_pingouin</th>\n",
       "      <th>t_stat_true</th>\n",
       "      <th>p_val_true</th>\n",
       "    </tr>\n",
       "  </thead>\n",
       "  <tbody>\n",
       "    <tr>\n",
       "      <th>prestige</th>\n",
       "      <td>0.611101</td>\n",
       "      <td>0.000011</td>\n",
       "      <td>5.062523</td>\n",
       "      <td>0.000008</td>\n",
       "    </tr>\n",
       "    <tr>\n",
       "      <th>education</th>\n",
       "      <td>0.037690</td>\n",
       "      <td>0.808084</td>\n",
       "      <td>0.247328</td>\n",
       "      <td>0.805831</td>\n",
       "    </tr>\n",
       "  </tbody>\n",
       "</table>\n",
       "</div>"
      ],
      "text/plain": [
       "                  r  p_val_pingouin  t_stat_true  p_val_true\n",
       "prestige   0.611101        0.000011     5.062523    0.000008\n",
       "education  0.037690        0.808084     0.247328    0.805831"
      ]
     },
     "execution_count": 8,
     "metadata": {},
     "output_type": "execute_result"
    }
   ],
   "source": [
    "partial_corr_df"
   ]
  },
  {
   "cell_type": "markdown",
   "metadata": {},
   "source": [
    "We now have exact agreement with the OLS results.\n",
    "\n",
    "This means that the $\\text{df}$ in both Kim, and hence `ppcor`, (to wit, $n-g-2$), and in Aloe and Thompson ($n-g$), see the text under equation 2) are incorrect (see the numerical confirmation below). A moment's thought shows this to be logical: if we are computing a correlation of two random variables with a sample of size $n$, we set $\\text{df} = n - 1 - 1$; for the case of a partial correlation, we simply replace one of the $1$'s in the above formula by $g$ for the co-variates. It appears as though both Kim and Aloe simply made clerical errors, the former overcounting by 1, and the latter undercounting by 1"
   ]
  },
  {
   "cell_type": "code",
   "execution_count": 9,
   "metadata": {},
   "outputs": [],
   "source": [
    "DF_KIM = DF - 1\n",
    "partial_corr_df[\"t_stat_kim\"] = partial_corr_df[\"r\"] * np.sqrt(DF_KIM / (1 - partial_corr_df[\"r\"]**2))\n",
    "partial_corr_df[\"p_val_kim\"] = 2 * t.sf(partial_corr_df[\"t_stat_kim\"].abs(),\n",
    "                                        df=DF_KIM)\n",
    "\n",
    "DF_ALOE = DF + 1\n",
    "partial_corr_df[\"t_stat_aloe\"] = partial_corr_df[\"r\"] * np.sqrt(DF_ALOE / (1 - partial_corr_df[\"r\"]**2))\n",
    "partial_corr_df[\"p_val_aloe\"] = 2 * t.sf(partial_corr_df[\"t_stat_aloe\"].abs(),\n",
    "                                         df=DF_ALOE)"
   ]
  },
  {
   "cell_type": "code",
   "execution_count": 10,
   "metadata": {},
   "outputs": [
    {
     "data": {
      "text/html": [
       "<div>\n",
       "<style scoped>\n",
       "    .dataframe tbody tr th:only-of-type {\n",
       "        vertical-align: middle;\n",
       "    }\n",
       "\n",
       "    .dataframe tbody tr th {\n",
       "        vertical-align: top;\n",
       "    }\n",
       "\n",
       "    .dataframe thead th {\n",
       "        text-align: right;\n",
       "    }\n",
       "</style>\n",
       "<table border=\"1\" class=\"dataframe\">\n",
       "  <thead>\n",
       "    <tr style=\"text-align: right;\">\n",
       "      <th></th>\n",
       "      <th>r</th>\n",
       "      <th>p_val_pingouin</th>\n",
       "      <th>t_stat_true</th>\n",
       "      <th>p_val_true</th>\n",
       "      <th>t_stat_kim</th>\n",
       "      <th>p_val_kim</th>\n",
       "      <th>t_stat_aloe</th>\n",
       "      <th>p_val_aloe</th>\n",
       "    </tr>\n",
       "  </thead>\n",
       "  <tbody>\n",
       "    <tr>\n",
       "      <th>prestige</th>\n",
       "      <td>0.611101</td>\n",
       "      <td>0.000011</td>\n",
       "      <td>5.062523</td>\n",
       "      <td>0.000008</td>\n",
       "      <td>5.003310</td>\n",
       "      <td>0.000011</td>\n",
       "      <td>5.121051</td>\n",
       "      <td>0.000006</td>\n",
       "    </tr>\n",
       "    <tr>\n",
       "      <th>education</th>\n",
       "      <td>0.037690</td>\n",
       "      <td>0.808084</td>\n",
       "      <td>0.247328</td>\n",
       "      <td>0.805831</td>\n",
       "      <td>0.244435</td>\n",
       "      <td>0.808084</td>\n",
       "      <td>0.250187</td>\n",
       "      <td>0.803607</td>\n",
       "    </tr>\n",
       "  </tbody>\n",
       "</table>\n",
       "</div>"
      ],
      "text/plain": [
       "                  r  p_val_pingouin  t_stat_true  p_val_true  t_stat_kim  \\\n",
       "prestige   0.611101        0.000011     5.062523    0.000008    5.003310   \n",
       "education  0.037690        0.808084     0.247328    0.805831    0.244435   \n",
       "\n",
       "           p_val_kim  t_stat_aloe  p_val_aloe  \n",
       "prestige    0.000011     5.121051    0.000006  \n",
       "education   0.808084     0.250187    0.803607  "
      ]
     },
     "execution_count": 10,
     "metadata": {},
     "output_type": "execute_result"
    }
   ],
   "source": [
    "partial_corr_df"
   ]
  },
  {
   "cell_type": "markdown",
   "metadata": {},
   "source": [
    "## Semi-partial Correlation Coefficient"
   ]
  },
  {
   "cell_type": "markdown",
   "metadata": {},
   "source": [
    "We now consider the semi-partial correlation coefficient, which I again compute using `pingouin`.\n",
    "\n",
    "Given the $\\text{df}$ error noted above, I avoid computing the $t$ statistic and $p$-value in `pingouin` and do it from the beginning by hand. This time however, I have two formulae for the $t$-statistic which are not commensurate: equation (2.8) in Kim as above (he uses the same formula for both the partial and semi-partial correlation coefficient):\n",
    "$$\n",
    "    t = r \\sqrt{\\frac{\\text{df}}{1 - r^2}}\\ ,\n",
    "$$\n",
    "versus equation (5) in Aloe and Thompson\n",
    "$$\n",
    "    t = r \\sqrt{\\frac{\\text{df}}{1 - R^2}}\\ .\n",
    "$$\n",
    "where each author uses their respective definitions of $\\text{df}$ as noted above. In Aloe and Thompson's formula, $R^2$ denotes the squared explained variance for the _full_ model. Hence, these two formulae will only agree in the case of a single predictor.\n",
    "\n",
    "We now compute these as above, down to the respective author's $\\text{df}$:"
   ]
  },
  {
   "cell_type": "code",
   "execution_count": 11,
   "metadata": {},
   "outputs": [],
   "source": [
    "# initialise dictionary\n",
    "semi_partial_corr_dict = {}\n",
    "\n",
    "# compute correlation coefficient for predictors\n",
    "for predictor in [\"education\", \"prestige\"]:\n",
    "    \n",
    "    semi_partial_corr_dict[predictor] = partial_corr(data=duncan_prestige,\n",
    "                                                     y=\"income\",\n",
    "                                                     x=predictor,\n",
    "                                                     x_covar=duncan_prestige.columns.drop([predictor, \"income\"]).to_list()\n",
    "                                                     )[[\"r\"]].reset_index().drop(\"index\", axis=1).values[0]\n",
    "    \n",
    "\n",
    "# convert dictionary to dataframe\n",
    "semi_partial_corr_df = pd.DataFrame.from_dict(semi_partial_corr_dict,\n",
    "                                              orient=\"index\",\n",
    "                                              columns=[\"r\"]\n",
    "                                              ).sort_values(\n",
    "    \"r\", key=abs, ascending=False)\n",
    "\n",
    "\n",
    "# compute t stat and p value via kim\n",
    "semi_partial_corr_df[\"t_stat_kim\"] = semi_partial_corr_df[\"r\"] * np.sqrt(DF_KIM / (1 - semi_partial_corr_df[\"r\"]**2))\n",
    "semi_partial_corr_df[\"p_val_kim\"] = 2 * t.sf(semi_partial_corr_df[\"t_stat_kim\"].abs(),\n",
    "                                             df=DF_KIM)\n",
    "\n",
    "# compute t-stat and p-value via aloe\n",
    "semi_partial_corr_df[\"t_stat_aloe\"] = semi_partial_corr_df[\"r\"] * np.sqrt(DF_ALOE / (1 - results_ols.rsquared))\n",
    "semi_partial_corr_df[\"p_val_aloe\"] = 2 * t.sf(semi_partial_corr_df[\"t_stat_aloe\"].abs(),\n",
    "                                              df=DF_ALOE)"
   ]
  },
  {
   "cell_type": "code",
   "execution_count": 12,
   "metadata": {},
   "outputs": [
    {
     "data": {
      "text/html": [
       "<div>\n",
       "<style scoped>\n",
       "    .dataframe tbody tr th:only-of-type {\n",
       "        vertical-align: middle;\n",
       "    }\n",
       "\n",
       "    .dataframe tbody tr th {\n",
       "        vertical-align: top;\n",
       "    }\n",
       "\n",
       "    .dataframe thead th {\n",
       "        text-align: right;\n",
       "    }\n",
       "</style>\n",
       "<table border=\"1\" class=\"dataframe\">\n",
       "  <thead>\n",
       "    <tr style=\"text-align: right;\">\n",
       "      <th></th>\n",
       "      <th>r</th>\n",
       "      <th>t_stat_kim</th>\n",
       "      <th>p_val_kim</th>\n",
       "      <th>t_stat_aloe</th>\n",
       "      <th>p_val_aloe</th>\n",
       "    </tr>\n",
       "  </thead>\n",
       "  <tbody>\n",
       "    <tr>\n",
       "      <th>prestige</th>\n",
       "      <td>0.421208</td>\n",
       "      <td>3.009758</td>\n",
       "      <td>0.004409</td>\n",
       "      <td>5.121051</td>\n",
       "      <td>0.000006</td>\n",
       "    </tr>\n",
       "    <tr>\n",
       "      <th>education</th>\n",
       "      <td>0.020578</td>\n",
       "      <td>0.133389</td>\n",
       "      <td>0.894523</td>\n",
       "      <td>0.250187</td>\n",
       "      <td>0.803607</td>\n",
       "    </tr>\n",
       "  </tbody>\n",
       "</table>\n",
       "</div>"
      ],
      "text/plain": [
       "                  r  t_stat_kim  p_val_kim  t_stat_aloe  p_val_aloe\n",
       "prestige   0.421208    3.009758   0.004409     5.121051    0.000006\n",
       "education  0.020578    0.133389   0.894523     0.250187    0.803607"
      ]
     },
     "execution_count": 12,
     "metadata": {},
     "output_type": "execute_result"
    }
   ],
   "source": [
    "semi_partial_corr_df"
   ]
  },
  {
   "cell_type": "markdown",
   "metadata": {},
   "source": [
    "A comparion to OLS results:"
   ]
  },
  {
   "cell_type": "code",
   "execution_count": 13,
   "metadata": {},
   "outputs": [
    {
     "data": {
      "text/plain": [
       "education    0.805831\n",
       "prestige     0.000008\n",
       "dtype: float64"
      ]
     },
     "execution_count": 13,
     "metadata": {},
     "output_type": "execute_result"
    }
   ],
   "source": [
    "results_ols.pvalues"
   ]
  },
  {
   "cell_type": "markdown",
   "metadata": {},
   "source": [
    "We see that Kim's computation quite far away from the true value, while Aloe's is much closer. So we modify Aloe's calculation to use the $\\text{df}$ that we argued for above."
   ]
  },
  {
   "cell_type": "code",
   "execution_count": 14,
   "metadata": {},
   "outputs": [],
   "source": [
    "semi_partial_corr_df[\"t_stat_true\"] = semi_partial_corr_df[\"r\"] * np.sqrt(DF / (1 - results_ols.rsquared))\n",
    "semi_partial_corr_df[\"p_val_true\"] = 2 * t.sf(semi_partial_corr_df[\"t_stat_true\"].abs(),\n",
    "                                              df=DF)"
   ]
  },
  {
   "cell_type": "code",
   "execution_count": 15,
   "metadata": {},
   "outputs": [
    {
     "data": {
      "text/html": [
       "<div>\n",
       "<style scoped>\n",
       "    .dataframe tbody tr th:only-of-type {\n",
       "        vertical-align: middle;\n",
       "    }\n",
       "\n",
       "    .dataframe tbody tr th {\n",
       "        vertical-align: top;\n",
       "    }\n",
       "\n",
       "    .dataframe thead th {\n",
       "        text-align: right;\n",
       "    }\n",
       "</style>\n",
       "<table border=\"1\" class=\"dataframe\">\n",
       "  <thead>\n",
       "    <tr style=\"text-align: right;\">\n",
       "      <th></th>\n",
       "      <th>r</th>\n",
       "      <th>t_stat_kim</th>\n",
       "      <th>p_val_kim</th>\n",
       "      <th>t_stat_aloe</th>\n",
       "      <th>p_val_aloe</th>\n",
       "      <th>t_stat_true</th>\n",
       "      <th>p_val_true</th>\n",
       "    </tr>\n",
       "  </thead>\n",
       "  <tbody>\n",
       "    <tr>\n",
       "      <th>prestige</th>\n",
       "      <td>0.421208</td>\n",
       "      <td>3.009758</td>\n",
       "      <td>0.004409</td>\n",
       "      <td>5.121051</td>\n",
       "      <td>0.000006</td>\n",
       "      <td>5.062523</td>\n",
       "      <td>0.000008</td>\n",
       "    </tr>\n",
       "    <tr>\n",
       "      <th>education</th>\n",
       "      <td>0.020578</td>\n",
       "      <td>0.133389</td>\n",
       "      <td>0.894523</td>\n",
       "      <td>0.250187</td>\n",
       "      <td>0.803607</td>\n",
       "      <td>0.247328</td>\n",
       "      <td>0.805831</td>\n",
       "    </tr>\n",
       "  </tbody>\n",
       "</table>\n",
       "</div>"
      ],
      "text/plain": [
       "                  r  t_stat_kim  p_val_kim  t_stat_aloe  p_val_aloe  \\\n",
       "prestige   0.421208    3.009758   0.004409     5.121051    0.000006   \n",
       "education  0.020578    0.133389   0.894523     0.250187    0.803607   \n",
       "\n",
       "           t_stat_true  p_val_true  \n",
       "prestige      5.062523    0.000008  \n",
       "education     0.247328    0.805831  "
      ]
     },
     "execution_count": 15,
     "metadata": {},
     "output_type": "execute_result"
    }
   ],
   "source": [
    "semi_partial_corr_df"
   ]
  },
  {
   "cell_type": "markdown",
   "metadata": {},
   "source": [
    "This works."
   ]
  },
  {
   "cell_type": "markdown",
   "metadata": {},
   "source": [
    "## Conclusion"
   ]
  },
  {
   "cell_type": "markdown",
   "metadata": {},
   "source": [
    "1. For both the partial and semi-partial correlation coefficients, the correct $\\text{df}$ is $\\text{df}=n-g-1$, where $g$ is the number of covariates. This is the only thing that needs to change in the `pingouin` implementation for the partial-correlation coefficient: the $t$-statistic is computed correctly.\n",
    "2. In the case of the semi-partial correlation coefficient, Kim's formula for the $t$-statistic is incorrect: the correct formulat is equation (5) in Aloe and Thompson (but with $\\text{df}$ as above)."
   ]
  }
 ],
 "metadata": {
  "kernelspec": {
   "display_name": "Python 3",
   "language": "python",
   "name": "python3"
  },
  "language_info": {
   "codemirror_mode": {
    "name": "ipython",
    "version": 3
   },
   "file_extension": ".py",
   "mimetype": "text/x-python",
   "name": "python",
   "nbconvert_exporter": "python",
   "pygments_lexer": "ipython3",
   "version": "3.7.3"
  },
  "toc": {
   "base_numbering": 1,
   "nav_menu": {},
   "number_sections": true,
   "sideBar": true,
   "skip_h1_title": false,
   "title_cell": "Table of Contents",
   "title_sidebar": "Contents",
   "toc_cell": false,
   "toc_position": {},
   "toc_section_display": true,
   "toc_window_display": false
  }
 },
 "nbformat": 4,
 "nbformat_minor": 4
}
